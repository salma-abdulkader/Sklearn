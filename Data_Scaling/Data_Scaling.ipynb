{
  "nbformat": 4,
  "nbformat_minor": 0,
  "metadata": {
    "colab": {
      "provenance": [],
      "toc_visible": true,
      "collapsed_sections": [
        "pqACyJmZfwo4",
        "Gm5EJRh1inuh",
        "FGIQqGLGknvA",
        "wBHdM2MNkQ0i",
        "UYBfyTY9o5wu"
      ]
    },
    "kernelspec": {
      "name": "python3",
      "display_name": "Python 3"
    },
    "language_info": {
      "name": "python"
    }
  },
  "cells": [
    {
      "cell_type": "markdown",
      "source": [
        "# **StandardScaler**"
      ],
      "metadata": {
        "id": "pqACyJmZfwo4"
      }
    },
    {
      "cell_type": "code",
      "source": [
        "from sklearn.preprocessing import StandardScaler"
      ],
      "metadata": {
        "id": "GbMTTFygGM0a"
      },
      "execution_count": 2,
      "outputs": []
    },
    {
      "cell_type": "code",
      "source": [
        "'''\n",
        "copy = true -> means to copy the data and work on it, don't change in original data\n",
        "copy = false -> means to work on the original data\n",
        "with_mean and std -> means allow using mean and standard deviation to scale data\n",
        "'''\n",
        "scaler = StandardScaler(copy = True, with_mean = True, with_std = True)\n",
        "x = scaler.fit_transform(x)"
      ],
      "metadata": {
        "id": "DTR-VKRsGM2B"
      },
      "execution_count": 4,
      "outputs": []
    },
    {
      "cell_type": "code",
      "source": [
        "''' examplllllllle '''\n",
        "data = [[0, 0], [0, 0], [1, 1], [1, 1]]\n",
        "scaler = StandardScaler()\n",
        "scaler.fit(data)\n",
        "print(scaler.mean_)"
      ],
      "metadata": {
        "id": "jthAoDDMGM5g",
        "colab": {
          "base_uri": "https://localhost:8080/"
        },
        "outputId": "a8b5519d-9aaa-43cf-aace-a2f946e74f74"
      },
      "execution_count": 6,
      "outputs": [
        {
          "output_type": "stream",
          "name": "stdout",
          "text": [
            "[0.5 0.5]\n"
          ]
        }
      ]
    },
    {
      "cell_type": "code",
      "source": [
        "newdata = scaler.transform(data)\n",
        "print(newdata)"
      ],
      "metadata": {
        "id": "9IF0jKBvGNGL",
        "colab": {
          "base_uri": "https://localhost:8080/"
        },
        "outputId": "fb0949ee-5adf-4433-b26f-aa684495ab68"
      },
      "execution_count": 7,
      "outputs": [
        {
          "output_type": "stream",
          "name": "stdout",
          "text": [
            "[[-1. -1.]\n",
            " [-1. -1.]\n",
            " [ 1.  1.]\n",
            " [ 1.  1.]]\n"
          ]
        }
      ]
    },
    {
      "cell_type": "code",
      "source": [
        "''' anoter way '''\n",
        "newdata = scaler.fit_transform(data)\n",
        "print(newdata)"
      ],
      "metadata": {
        "id": "KnYLtjMFGNHr",
        "colab": {
          "base_uri": "https://localhost:8080/"
        },
        "outputId": "0fa77efb-9495-4e75-cb46-19b272287693"
      },
      "execution_count": 9,
      "outputs": [
        {
          "output_type": "stream",
          "name": "stdout",
          "text": [
            "[[-1. -1.]\n",
            " [-1. -1.]\n",
            " [ 1.  1.]\n",
            " [ 1.  1.]]\n"
          ]
        }
      ]
    },
    {
      "cell_type": "code",
      "source": [
        "''' examplllllllle_2 '''\n",
        "data = [[3652, 1253], [21, 7745], [-3695, 150], [1525, -963]]\n",
        "scaler = StandardScaler()\n",
        "scaler.fit(data)\n",
        "print(scaler.mean_)"
      ],
      "metadata": {
        "id": "8jRoGXkxGNJ-",
        "colab": {
          "base_uri": "https://localhost:8080/"
        },
        "outputId": "ca45e6e8-e06f-4db2-888d-17561ba10ae2"
      },
      "execution_count": 10,
      "outputs": [
        {
          "output_type": "stream",
          "name": "stdout",
          "text": [
            "[ 375.75 2046.25]\n"
          ]
        }
      ]
    },
    {
      "cell_type": "code",
      "source": [
        "newdata = scaler.fit_transform(data)\n",
        "print(newdata)"
      ],
      "metadata": {
        "id": "WQrr-iIoGNOk",
        "colab": {
          "base_uri": "https://localhost:8080/"
        },
        "outputId": "2ce5420e-c715-4be1-d7bf-eda0277cec08"
      },
      "execution_count": 12,
      "outputs": [
        {
          "output_type": "stream",
          "name": "stdout",
          "text": [
            "[[ 1.22201689 -0.23453864]\n",
            " [-0.13231911  1.68493802]\n",
            " [-1.51835948 -0.56066045]\n",
            " [ 0.4286617  -0.88973893]]\n"
          ]
        }
      ]
    },
    {
      "cell_type": "markdown",
      "source": [
        "# **MinMaxScaler**"
      ],
      "metadata": {
        "id": "Gm5EJRh1inuh"
      }
    },
    {
      "cell_type": "code",
      "source": [
        "from sklearn.preprocessing import MinMaxScaler"
      ],
      "metadata": {
        "id": "7ljUt6MjGNbq"
      },
      "execution_count": 13,
      "outputs": []
    },
    {
      "cell_type": "code",
      "source": [
        "'''\n",
        "feature_range = (0, 1) means output equal 0 to 1\n",
        "'''\n",
        "data = [[-1, 2], [-0.5, 6], [0, 10], [1, 18]]\n",
        "scaler = MinMaxScaler(copy = True, feature_range = (0, 1))\n",
        "new_data = scaler.fit_transform(data)\n",
        "print(new_data)"
      ],
      "metadata": {
        "id": "7L81ruwgGNdY",
        "colab": {
          "base_uri": "https://localhost:8080/"
        },
        "outputId": "809ccc24-9f67-4fcc-e8d1-ec0aa5226c88"
      },
      "execution_count": 19,
      "outputs": [
        {
          "output_type": "stream",
          "name": "stdout",
          "text": [
            "[[0.   0.  ]\n",
            " [0.25 0.25]\n",
            " [0.5  0.5 ]\n",
            " [1.   1.  ]]\n"
          ]
        }
      ]
    },
    {
      "cell_type": "code",
      "source": [
        "print(scaler.data_max_)"
      ],
      "metadata": {
        "id": "2QFy6w9EGNhV",
        "colab": {
          "base_uri": "https://localhost:8080/"
        },
        "outputId": "6df3809d-08a1-4425-f594-d5b823313249"
      },
      "execution_count": 21,
      "outputs": [
        {
          "output_type": "stream",
          "name": "stdout",
          "text": [
            "[ 1. 18.]\n"
          ]
        }
      ]
    },
    {
      "cell_type": "code",
      "source": [
        "print(scaler.data_min_)"
      ],
      "metadata": {
        "id": "zwxrlairGNqT",
        "colab": {
          "base_uri": "https://localhost:8080/"
        },
        "outputId": "87c25af4-f523-49ae-c211-baf28dc23f4f"
      },
      "execution_count": 22,
      "outputs": [
        {
          "output_type": "stream",
          "name": "stdout",
          "text": [
            "[-1.  2.]\n"
          ]
        }
      ]
    },
    {
      "cell_type": "code",
      "source": [
        "print(scaler.data_range_)"
      ],
      "metadata": {
        "colab": {
          "base_uri": "https://localhost:8080/"
        },
        "id": "T7jXNiApkRNP",
        "outputId": "9ffd0fc5-8409-42c3-f20f-56925d3c8030"
      },
      "execution_count": 23,
      "outputs": [
        {
          "output_type": "stream",
          "name": "stdout",
          "text": [
            "[ 2. 16.]\n"
          ]
        }
      ]
    },
    {
      "cell_type": "markdown",
      "source": [
        "# **Normalizer**"
      ],
      "metadata": {
        "id": "FGIQqGLGknvA"
      }
    },
    {
      "cell_type": "code",
      "source": [
        "from sklearn.preprocessing import Normalizer"
      ],
      "metadata": {
        "id": "-_IvlqPzkRJI"
      },
      "execution_count": 24,
      "outputs": []
    },
    {
      "cell_type": "code",
      "source": [
        "data = [[4, 1, 2, 2],\n",
        "        [1, 3, 9, 3],\n",
        "        [5, 7, 5, 1]]\n",
        "transformer = Normalizer(norm = 'l1')\n",
        "new_ = transformer.fit_transform(data)\n",
        "print(new_)\n",
        "\n",
        "''' el-output gives you the percent of every number divided by the sum of each row that this value was in '''\n",
        "''' ex(4/(4+1+2+2)), and so on... '''"
      ],
      "metadata": {
        "colab": {
          "base_uri": "https://localhost:8080/",
          "height": 90
        },
        "id": "m8IIhhtqkRHD",
        "outputId": "4ba2fccd-0424-4582-a111-f7416010366b"
      },
      "execution_count": 27,
      "outputs": [
        {
          "output_type": "stream",
          "name": "stdout",
          "text": [
            "[[0.44444444 0.11111111 0.22222222 0.22222222]\n",
            " [0.0625     0.1875     0.5625     0.1875    ]\n",
            " [0.27777778 0.38888889 0.27777778 0.05555556]]\n"
          ]
        },
        {
          "output_type": "execute_result",
          "data": {
            "text/plain": [
              "' ex(4/(4+1+2+2)), and so on... '"
            ],
            "application/vnd.google.colaboratory.intrinsic+json": {
              "type": "string"
            }
          },
          "metadata": {},
          "execution_count": 27
        }
      ]
    },
    {
      "cell_type": "code",
      "source": [
        "data = [[4, 1, 2, 2],\n",
        "        [1, 3, 9, 3],\n",
        "        [5, 7, 5, 1]]\n",
        "transformer = Normalizer(norm = 'l2')\n",
        "new_ = transformer.fit_transform(data)\n",
        "print(new_)"
      ],
      "metadata": {
        "colab": {
          "base_uri": "https://localhost:8080/"
        },
        "id": "uWN7PAVjkRFm",
        "outputId": "ef3a3c1f-48fc-4760-ac5a-6bbd5ac34df2"
      },
      "execution_count": 28,
      "outputs": [
        {
          "output_type": "stream",
          "name": "stdout",
          "text": [
            "[[0.8 0.2 0.4 0.4]\n",
            " [0.1 0.3 0.9 0.3]\n",
            " [0.5 0.7 0.5 0.1]]\n"
          ]
        }
      ]
    },
    {
      "cell_type": "code",
      "source": [
        "data = [[4, 1, 2, 2],\n",
        "        [1, 3, 9, 3],\n",
        "        [5, 7, 5, 1]]\n",
        "transformer = Normalizer(norm = 'max')\n",
        "new_ = transformer.fit_transform(data)\n",
        "print(new_)"
      ],
      "metadata": {
        "colab": {
          "base_uri": "https://localhost:8080/"
        },
        "id": "5LgyJmvOnPYW",
        "outputId": "2e115c4c-d0bd-4c80-90df-454335e3a3fa"
      },
      "execution_count": 30,
      "outputs": [
        {
          "output_type": "stream",
          "name": "stdout",
          "text": [
            "[[1.         0.25       0.5        0.5       ]\n",
            " [0.11111111 0.33333333 1.         0.33333333]\n",
            " [0.71428571 1.         0.71428571 0.14285714]]\n"
          ]
        }
      ]
    },
    {
      "cell_type": "markdown",
      "source": [
        "# **MaxAbsScaler**"
      ],
      "metadata": {
        "id": "wBHdM2MNkQ0i"
      }
    },
    {
      "cell_type": "code",
      "source": [
        "from sklearn.preprocessing import MaxAbsScaler"
      ],
      "metadata": {
        "id": "CscvumgrkSB_"
      },
      "execution_count": 31,
      "outputs": []
    },
    {
      "cell_type": "code",
      "source": [
        "data = [[1, 10, 2],\n",
        "        [2, 0, 0],\n",
        "        [5, 1, -1]]\n",
        "transformer = MaxAbsScaler().fit_transform(data)\n",
        "print(transformer)"
      ],
      "metadata": {
        "colab": {
          "base_uri": "https://localhost:8080/"
        },
        "id": "eXf9XyfRkR-H",
        "outputId": "2500aebf-8ed4-4480-c4b8-275e6f84b64e"
      },
      "execution_count": 34,
      "outputs": [
        {
          "output_type": "stream",
          "name": "stdout",
          "text": [
            "[[ 0.2  1.   1. ]\n",
            " [ 0.4  0.   0. ]\n",
            " [ 1.   0.1 -0.5]]\n"
          ]
        }
      ]
    },
    {
      "cell_type": "markdown",
      "source": [
        "\n",
        "# **Benarizer**"
      ],
      "metadata": {
        "id": "UYBfyTY9o5wu"
      }
    },
    {
      "cell_type": "code",
      "source": [
        "from sklearn.preprocessing import Binarizer"
      ],
      "metadata": {
        "id": "ZS4-nI2nkR8E"
      },
      "execution_count": 36,
      "outputs": []
    },
    {
      "cell_type": "code",
      "source": [
        "data = [[1., -1., -2.],\n",
        "        [2., 0., -1.],\n",
        "        [0., 1., -1.]]\n",
        "transformer = Binarizer(threshold = 0.5).fit_transform(data)\n",
        "print(transformer)"
      ],
      "metadata": {
        "colab": {
          "base_uri": "https://localhost:8080/"
        },
        "id": "mlldKdxRkR6m",
        "outputId": "35b5f432-67b3-40ec-d7f5-4d7e7663cf09"
      },
      "execution_count": 39,
      "outputs": [
        {
          "output_type": "stream",
          "name": "stdout",
          "text": [
            "[[1. 0. 0.]\n",
            " [1. 0. 0.]\n",
            " [0. 1. 0.]]\n"
          ]
        }
      ]
    },
    {
      "cell_type": "markdown",
      "source": [
        "# **Polynomial Feature**"
      ],
      "metadata": {
        "id": "Q7VaPHXVo-ma"
      }
    },
    {
      "cell_type": "code",
      "source": [
        "import numpy as np\n",
        "from sklearn.preprocessing import PolynomialFeatures"
      ],
      "metadata": {
        "id": "TLqz7oshpAWi"
      },
      "execution_count": 42,
      "outputs": []
    },
    {
      "cell_type": "code",
      "source": [
        "'''\n",
        "this function increase features\n",
        "'''\n",
        "data = np.arange(6).reshape(3, 2)\n",
        "data"
      ],
      "metadata": {
        "colab": {
          "base_uri": "https://localhost:8080/"
        },
        "id": "L8KFbi8JpAOL",
        "outputId": "e6421e2a-5430-46a1-8445-c7aa2e5dcc13"
      },
      "execution_count": 45,
      "outputs": [
        {
          "output_type": "execute_result",
          "data": {
            "text/plain": [
              "array([[0, 1],\n",
              "       [2, 3],\n",
              "       [4, 5]])"
            ]
          },
          "metadata": {},
          "execution_count": 45
        }
      ]
    },
    {
      "cell_type": "code",
      "source": [
        "scaler = PolynomialFeatures(degree =  2, include_bias = True)\n",
        "print(scaler.fit_transform(data))\n",
        "'''\n",
        "the first column = Bias = 1\n",
        "the second column = x1(0, 2, 4)\n",
        "the third column = x2(1, 3, 5)\n",
        "the fourth column = x1^2(0, 4, 16)\n",
        "the fifth column = x2^2(1, 9, 25)\n",
        "'''"
      ],
      "metadata": {
        "colab": {
          "base_uri": "https://localhost:8080/",
          "height": 109
        },
        "id": "SXVPYAEUpAMb",
        "outputId": "3182a518-4e44-4c72-a1ac-7efb780b5233"
      },
      "execution_count": 48,
      "outputs": [
        {
          "output_type": "stream",
          "name": "stdout",
          "text": [
            "[[ 1.  0.  1.  0.  0.  1.]\n",
            " [ 1.  2.  3.  4.  6.  9.]\n",
            " [ 1.  4.  5. 16. 20. 25.]]\n"
          ]
        },
        {
          "output_type": "execute_result",
          "data": {
            "text/plain": [
              "'\\nthe first column = Bias = 1\\nthe second column = x1(0, 2, 4)\\nthe third column = x2(1, 3, 5)\\nthe fourth column = x1^2(0, 4, 16)\\nthe fifth column = x2^2(1, 9, 25)\\n'"
            ],
            "application/vnd.google.colaboratory.intrinsic+json": {
              "type": "string"
            }
          },
          "metadata": {},
          "execution_count": 48
        }
      ]
    },
    {
      "cell_type": "code",
      "source": [
        "scaler = PolynomialFeatures(interaction_only = True)\n",
        "print(scaler.fit_transform(data))"
      ],
      "metadata": {
        "colab": {
          "base_uri": "https://localhost:8080/"
        },
        "id": "Xhdq0ykUt9CL",
        "outputId": "44a295db-8d09-4b3c-a2f0-bf32ad0c4c84"
      },
      "execution_count": 51,
      "outputs": [
        {
          "output_type": "stream",
          "name": "stdout",
          "text": [
            "[[ 1.  0.  1.  0.]\n",
            " [ 1.  2.  3.  6.]\n",
            " [ 1.  4.  5. 20.]]\n"
          ]
        }
      ]
    }
  ]
}