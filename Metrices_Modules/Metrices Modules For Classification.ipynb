{
  "nbformat": 4,
  "nbformat_minor": 0,
  "metadata": {
    "colab": {
      "provenance": [],
      "toc_visible": true
    },
    "kernelspec": {
      "name": "python3",
      "display_name": "Python 3"
    },
    "language_info": {
      "name": "python"
    }
  },
  "cells": [
    {
      "cell_type": "markdown",
      "source": [
        "# **Metrics Modules For Classification:-**"
      ],
      "metadata": {
        "id": "skPipA79TYfn"
      }
    },
    {
      "cell_type": "markdown",
      "source": [
        "# **Confusion Matrix**"
      ],
      "metadata": {
        "id": "mraWA1JMCpXH"
      }
    },
    {
      "cell_type": "code",
      "source": [
        "from sklearn.metrics import confusion_matrix"
      ],
      "metadata": {
        "id": "1R0E1WmgCnxy"
      },
      "execution_count": 85,
      "outputs": []
    },
    {
      "cell_type": "code",
      "source": [
        "y_pred = ['a','a','b','b','a','b','a','a','a','a']\n",
        "y_true = ['a','b','b','a','b','a','a','b','a','b']"
      ],
      "metadata": {
        "id": "XKW8BPuHCoXz"
      },
      "execution_count": 89,
      "outputs": []
    },
    {
      "cell_type": "code",
      "source": [
        "print(confusion_matrix(y_true,y_pred))"
      ],
      "metadata": {
        "colab": {
          "base_uri": "https://localhost:8080/"
        },
        "id": "KmOdPr37CoSL",
        "outputId": "a92c811f-c567-4b9c-ce2a-aeae368afc4f"
      },
      "execution_count": 94,
      "outputs": [
        {
          "output_type": "stream",
          "name": "stdout",
          "text": [
            "[[3 2]\n",
            " [4 1]]\n"
          ]
        }
      ]
    },
    {
      "cell_type": "code",
      "source": [
        "y_pred = ['a','b','c','a','b','c','a','b','c','a']\n",
        "y_true = ['a','a','b','b','a','b','c','c','b','b']"
      ],
      "metadata": {
        "id": "fa_MvBRWCoPI"
      },
      "execution_count": 95,
      "outputs": []
    },
    {
      "cell_type": "code",
      "source": [
        "print(confusion_matrix(y_true,y_pred))"
      ],
      "metadata": {
        "colab": {
          "base_uri": "https://localhost:8080/"
        },
        "id": "SynxficHCoNA",
        "outputId": "ce71f72c-9810-4430-f28d-505a7e8223da"
      },
      "execution_count": 96,
      "outputs": [
        {
          "output_type": "stream",
          "name": "stdout",
          "text": [
            "[[1 2 0]\n",
            " [2 0 3]\n",
            " [1 1 0]]\n"
          ]
        }
      ]
    },
    {
      "cell_type": "code",
      "source": [
        "y_pred = [5,8,9,9,8,5,5,9,8,5,9,8]\n",
        "y_true = [9,9,8,8,5,5,9,5,8,9,8,5]"
      ],
      "metadata": {
        "id": "iZ7FdQOuCoKr"
      },
      "execution_count": 97,
      "outputs": []
    },
    {
      "cell_type": "code",
      "source": [
        "print(confusion_matrix(y_true, y_pred))"
      ],
      "metadata": {
        "colab": {
          "base_uri": "https://localhost:8080/"
        },
        "id": "tSw6OLuuHCTy",
        "outputId": "626c1322-b433-4f4e-8f8a-696910846fea"
      },
      "execution_count": 99,
      "outputs": [
        {
          "output_type": "stream",
          "name": "stdout",
          "text": [
            "[[1 2 1]\n",
            " [0 1 3]\n",
            " [3 1 0]]\n"
          ]
        }
      ]
    },
    {
      "cell_type": "markdown",
      "source": [
        "# **Accuracy Score**"
      ],
      "metadata": {
        "id": "sDlLVXG_G3AA"
      }
    },
    {
      "cell_type": "code",
      "source": [
        "from sklearn.metrics import accuracy_score"
      ],
      "metadata": {
        "id": "Y8F8ucT0CoIK"
      },
      "execution_count": 100,
      "outputs": []
    },
    {
      "cell_type": "code",
      "source": [
        "y_pred = [0, 2, 1, 3, 5, 3]\n",
        "y_true = [0, 1, 2, 3, 5, 3]"
      ],
      "metadata": {
        "id": "QnVd6WC5CoFs"
      },
      "execution_count": 104,
      "outputs": []
    },
    {
      "cell_type": "code",
      "source": [
        "'''\n",
        "TP TN FP FN\n",
        "TP + FP = 4\n",
        "\n",
        "Accuracy = (TP + TN) / (TP + TN + FP + FN) = 4/6 = 0.6666666666666666\n",
        "'''\n",
        "print(accuracy_score(y_true, y_pred))"
      ],
      "metadata": {
        "colab": {
          "base_uri": "https://localhost:8080/"
        },
        "id": "v1RFZXmUCoDJ",
        "outputId": "134e7f7b-48ed-4654-935d-89c5b0d060fc"
      },
      "execution_count": 107,
      "outputs": [
        {
          "output_type": "stream",
          "name": "stdout",
          "text": [
            "0.6666666666666666\n"
          ]
        }
      ]
    },
    {
      "cell_type": "code",
      "source": [
        "'''\n",
        "normalize = False\n",
        "this return only the number of correct prediction (TP) and not the accuracy score (not deivide it by sum of all terms).\n",
        "'''\n",
        "print(accuracy_score(y_true, y_pred, normalize = False))"
      ],
      "metadata": {
        "colab": {
          "base_uri": "https://localhost:8080/"
        },
        "id": "UieO8oDcCoBn",
        "outputId": "28938445-2515-40d9-e4e7-b8c1ec903305"
      },
      "execution_count": 111,
      "outputs": [
        {
          "output_type": "stream",
          "name": "stdout",
          "text": [
            "4\n"
          ]
        }
      ]
    },
    {
      "cell_type": "markdown",
      "source": [
        "# **Precision \"Specifity\"**"
      ],
      "metadata": {
        "id": "JpYoa4rMMDFM"
      }
    },
    {
      "cell_type": "code",
      "source": [
        "from sklearn.metrics import precision_score"
      ],
      "metadata": {
        "id": "vtkf0HGDMLLC"
      },
      "execution_count": 123,
      "outputs": []
    },
    {
      "cell_type": "code",
      "source": [
        "y_pred = ['a','b','c','a','b','c','a','b','c','a']\n",
        "y_true = ['a','a','b','b','a','b','c','c','b','b']"
      ],
      "metadata": {
        "id": "XLHazewUMLSF"
      },
      "execution_count": 124,
      "outputs": []
    },
    {
      "cell_type": "code",
      "source": [
        "print(precision_score(y_true, y_pred, average = \"macro\"))"
      ],
      "metadata": {
        "colab": {
          "base_uri": "https://localhost:8080/"
        },
        "id": "GaU7rYbFNh3l",
        "outputId": "3d5f2f47-fa95-4fe5-cfe3-385072dcdb1c"
      },
      "execution_count": 127,
      "outputs": [
        {
          "output_type": "stream",
          "name": "stdout",
          "text": [
            "0.08333333333333333\n"
          ]
        }
      ]
    },
    {
      "cell_type": "code",
      "source": [
        "print(precision_score(y_true, y_pred, average = None))\n",
        "'''\n",
        "avg = binary, macro, weighted, samples, None \"return every value\"\n",
        "precision = TP / (TP + FP)\n",
        "'''"
      ],
      "metadata": {
        "colab": {
          "base_uri": "https://localhost:8080/",
          "height": 54
        },
        "id": "MnYvMvvmMLO9",
        "outputId": "d5681cbf-75ff-42f0-8f43-2ba76b197c39"
      },
      "execution_count": 128,
      "outputs": [
        {
          "output_type": "stream",
          "name": "stdout",
          "text": [
            "[0.25 0.   0.  ]\n"
          ]
        },
        {
          "output_type": "execute_result",
          "data": {
            "text/plain": [
              "'\\navg = binary, macro, weighted, samples, None \"return every value\"\\nprecision = TP / (TP + FP)\\n'"
            ],
            "application/vnd.google.colaboratory.intrinsic+json": {
              "type": "string"
            }
          },
          "metadata": {},
          "execution_count": 128
        }
      ]
    },
    {
      "cell_type": "markdown",
      "source": [
        "# **Recall \"Sensitivity\"**"
      ],
      "metadata": {
        "id": "fD3DJGvDJW-7"
      }
    },
    {
      "cell_type": "code",
      "source": [
        "from sklearn.metrics import recall_score"
      ],
      "metadata": {
        "id": "YwjXxyseCn6P"
      },
      "execution_count": 118,
      "outputs": []
    },
    {
      "cell_type": "code",
      "source": [
        "y_pred = ['a','b','c','a','b','c','a','b','c','a']\n",
        "y_true = ['a','a','b','b','a','b','c','c','b','b']"
      ],
      "metadata": {
        "id": "8Dyt-mqmCn2T"
      },
      "execution_count": 119,
      "outputs": []
    },
    {
      "cell_type": "code",
      "source": [
        "print(recall_score(y_true, y_pred, average = None))"
      ],
      "metadata": {
        "colab": {
          "base_uri": "https://localhost:8080/"
        },
        "id": "k4SWYPtBNth1",
        "outputId": "424a59f7-7365-4173-b34d-fd160951658f"
      },
      "execution_count": 129,
      "outputs": [
        {
          "output_type": "stream",
          "name": "stdout",
          "text": [
            "[0.33333333 0.         0.        ]\n"
          ]
        }
      ]
    },
    {
      "cell_type": "code",
      "source": [
        "print(recall_score(y_true, y_pred, average = 'macro'))\n",
        "'''\n",
        "avg = binary, macro, weighted, samples\n",
        "recall = TP / (TP + FN)\n",
        "'''"
      ],
      "metadata": {
        "colab": {
          "base_uri": "https://localhost:8080/",
          "height": 54
        },
        "id": "t6g8FjRcCn0N",
        "outputId": "4c98404a-68a4-44bc-c5ca-c8c48c1c7520"
      },
      "execution_count": 122,
      "outputs": [
        {
          "output_type": "stream",
          "name": "stdout",
          "text": [
            "0.1111111111111111\n"
          ]
        },
        {
          "output_type": "execute_result",
          "data": {
            "text/plain": [
              "'\\navg = binary, macro, weighted, samples\\nrecall = TP / (TP + FN)\\n'"
            ],
            "application/vnd.google.colaboratory.intrinsic+json": {
              "type": "string"
            }
          },
          "metadata": {},
          "execution_count": 122
        }
      ]
    },
    {
      "cell_type": "markdown",
      "source": [
        "# **F1 Score**"
      ],
      "metadata": {
        "id": "6aPl4B8cJaOI"
      }
    },
    {
      "cell_type": "code",
      "source": [
        "from sklearn.metrics import f1_score"
      ],
      "metadata": {
        "id": "moDD_JQKJWc-"
      },
      "execution_count": 112,
      "outputs": []
    },
    {
      "cell_type": "code",
      "source": [
        "y_pred = [0, 2, 1, 0, 0, 1]\n",
        "y_true = [0, 1, 2, 0, 1, 2]"
      ],
      "metadata": {
        "id": "QpU2wbK-JWaz"
      },
      "execution_count": 113,
      "outputs": []
    },
    {
      "cell_type": "code",
      "source": [
        "print(f1_score(y_true, y_pred, average = None))"
      ],
      "metadata": {
        "colab": {
          "base_uri": "https://localhost:8080/"
        },
        "id": "tKAF1MdRN31r",
        "outputId": "4fffb9cd-a259-4bcc-ff88-71b08a396103"
      },
      "execution_count": 130,
      "outputs": [
        {
          "output_type": "stream",
          "name": "stdout",
          "text": [
            "[0.28571429 0.         0.        ]\n"
          ]
        }
      ]
    },
    {
      "cell_type": "code",
      "source": [
        "print(f1_score(y_true, y_pred, average = 'macro'))\n",
        "\n",
        "'''\n",
        "avg = binary, macro, weighted, samples, None\n",
        "f1_score = 2 * (precision * recall) / (precision + recall)\n",
        "'''"
      ],
      "metadata": {
        "colab": {
          "base_uri": "https://localhost:8080/",
          "height": 54
        },
        "id": "js39zpxPJWXt",
        "outputId": "d1cb54c0-55e3-4696-a1cf-3b43968abf2e"
      },
      "execution_count": 131,
      "outputs": [
        {
          "output_type": "stream",
          "name": "stdout",
          "text": [
            "0.09523809523809525\n"
          ]
        },
        {
          "output_type": "execute_result",
          "data": {
            "text/plain": [
              "'\\navg = binary, macro, weighted, samples, None\\nf1_score = 2 * (precision * recall) / (precision + recall)\\n'"
            ],
            "application/vnd.google.colaboratory.intrinsic+json": {
              "type": "string"
            }
          },
          "metadata": {},
          "execution_count": 131
        }
      ]
    },
    {
      "cell_type": "markdown",
      "source": [
        "# **Precision_Recall_Fscore_Support**"
      ],
      "metadata": {
        "id": "zKoFN7ANKalt"
      }
    },
    {
      "cell_type": "code",
      "source": [
        "import numpy as np\n",
        "from sklearn.metrics import precision_recall_fscore_support"
      ],
      "metadata": {
        "id": "w8HGZKE7JWVR"
      },
      "execution_count": 134,
      "outputs": []
    },
    {
      "cell_type": "code",
      "source": [
        "y_pred = np.array(['cat', 'pig', 'dog', 'cat', 'cat', 'dog'])\n",
        "y_true = np.array(['cat', 'dog', 'pig', 'cat', 'dog', 'pig'])"
      ],
      "metadata": {
        "id": "Jwwk6A87JWSw"
      },
      "execution_count": 135,
      "outputs": []
    },
    {
      "cell_type": "code",
      "source": [
        "print(precision_recall_fscore_support(y_true, y_pred, average = 'macro'))"
      ],
      "metadata": {
        "colab": {
          "base_uri": "https://localhost:8080/"
        },
        "id": "UdldEOgaJWQd",
        "outputId": "1b57c71e-e780-4233-9695-0cb0f92c83e6"
      },
      "execution_count": 136,
      "outputs": [
        {
          "output_type": "stream",
          "name": "stdout",
          "text": [
            "(0.2222222222222222, 0.3333333333333333, 0.26666666666666666, None)\n"
          ]
        }
      ]
    },
    {
      "cell_type": "code",
      "source": [
        "print(precision_recall_fscore_support(y_true, y_pred, average = None))"
      ],
      "metadata": {
        "colab": {
          "base_uri": "https://localhost:8080/"
        },
        "id": "xhatOjKvOp3g",
        "outputId": "7cc27834-9575-4583-b6d5-e2578793a1a6"
      },
      "execution_count": 137,
      "outputs": [
        {
          "output_type": "stream",
          "name": "stdout",
          "text": [
            "(array([0.66666667, 0.        , 0.        ]), array([1., 0., 0.]), array([0.8, 0. , 0. ]), array([2, 2, 2]))\n"
          ]
        }
      ]
    },
    {
      "cell_type": "markdown",
      "source": [
        "# **Precision Recall Curve**"
      ],
      "metadata": {
        "id": "VAd_BnRZPHJ7"
      }
    },
    {
      "cell_type": "code",
      "source": [
        "import numpy as np\n",
        "from sklearn.metrics import precision_recall_curve"
      ],
      "metadata": {
        "id": "4_TvFKS5JWOF"
      },
      "execution_count": 158,
      "outputs": []
    },
    {
      "cell_type": "code",
      "source": [
        "y_preddd = np.array([0, 0, 1, 1])\n",
        "y_trueee = np.array([0.1, 0.4, 0.35, 0.8])"
      ],
      "metadata": {
        "id": "B16NsouPPpaY"
      },
      "execution_count": 162,
      "outputs": []
    },
    {
      "cell_type": "code",
      "source": [
        "PrecisionValue, RecallValue, ThresholdValue = precision_recall_curve(y_preddd, y_trueee)"
      ],
      "metadata": {
        "id": "tgm7zBeVJWMX"
      },
      "execution_count": 163,
      "outputs": []
    },
    {
      "cell_type": "code",
      "source": [
        "print(\"Precision Value:\\n\", PrecisionValue, \"\\n\")\n",
        "print(\"RecallValue:\\n\", RecallValue, \"\\n\")\n",
        "print(\"ThresholdValue:\\n\", ThresholdValue, \"\\n\")"
      ],
      "metadata": {
        "colab": {
          "base_uri": "https://localhost:8080/"
        },
        "id": "YqjFjs47JWEm",
        "outputId": "b7b97868-0cec-47c1-9dde-c0a21836a140"
      },
      "execution_count": 164,
      "outputs": [
        {
          "output_type": "stream",
          "name": "stdout",
          "text": [
            "Precision Value:\n",
            " [0.5        0.66666667 0.5        1.         1.        ] \n",
            "\n",
            "RecallValue:\n",
            " [1.  1.  0.5 0.5 0. ] \n",
            "\n",
            "ThresholdValue:\n",
            " [0.1  0.35 0.4  0.8 ] \n",
            "\n"
          ]
        }
      ]
    },
    {
      "cell_type": "markdown",
      "source": [
        "# **Classification Report**"
      ],
      "metadata": {
        "id": "eFaTejTlQ6_Y"
      }
    },
    {
      "cell_type": "code",
      "source": [
        "from sklearn.metrics import classification_report"
      ],
      "metadata": {
        "id": "BRl1eqn9JV-b"
      },
      "execution_count": 1,
      "outputs": []
    },
    {
      "cell_type": "code",
      "source": [
        "y_true = [0, 1, 2, 2, 2, 5] # -> called quad classification (four_numbers)(0,1,2,5)\n",
        "y_pred = [0, 0, 2, 2, 1, 0]"
      ],
      "metadata": {
        "id": "Y3Fc0wHBgby6"
      },
      "execution_count": 3,
      "outputs": []
    },
    {
      "cell_type": "code",
      "source": [
        "print(classification_report(y_true, y_pred))"
      ],
      "metadata": {
        "colab": {
          "base_uri": "https://localhost:8080/"
        },
        "id": "UCCldRYPgbvP",
        "outputId": "73276d25-1b57-49e5-c60e-c3bda3c6ef21"
      },
      "execution_count": 4,
      "outputs": [
        {
          "output_type": "stream",
          "name": "stdout",
          "text": [
            "              precision    recall  f1-score   support\n",
            "\n",
            "           0       0.33      1.00      0.50         1\n",
            "           1       0.00      0.00      0.00         1\n",
            "           2       1.00      0.67      0.80         3\n",
            "           5       0.00      0.00      0.00         1\n",
            "\n",
            "    accuracy                           0.50         6\n",
            "   macro avg       0.33      0.42      0.33         6\n",
            "weighted avg       0.56      0.50      0.48         6\n",
            "\n"
          ]
        },
        {
          "output_type": "stream",
          "name": "stderr",
          "text": [
            "/usr/local/lib/python3.10/dist-packages/sklearn/metrics/_classification.py:1471: UndefinedMetricWarning: Precision and F-score are ill-defined and being set to 0.0 in labels with no predicted samples. Use `zero_division` parameter to control this behavior.\n",
            "  _warn_prf(average, modifier, msg_start, len(result))\n",
            "/usr/local/lib/python3.10/dist-packages/sklearn/metrics/_classification.py:1471: UndefinedMetricWarning: Precision and F-score are ill-defined and being set to 0.0 in labels with no predicted samples. Use `zero_division` parameter to control this behavior.\n",
            "  _warn_prf(average, modifier, msg_start, len(result))\n",
            "/usr/local/lib/python3.10/dist-packages/sklearn/metrics/_classification.py:1471: UndefinedMetricWarning: Precision and F-score are ill-defined and being set to 0.0 in labels with no predicted samples. Use `zero_division` parameter to control this behavior.\n",
            "  _warn_prf(average, modifier, msg_start, len(result))\n"
          ]
        }
      ]
    },
    {
      "cell_type": "code",
      "source": [
        "y_true = ['a','d','a','g','a','d']\n",
        "y_pred = ['a','a','g','g','d','g']"
      ],
      "metadata": {
        "id": "wLMBjtvYgbtR"
      },
      "execution_count": 5,
      "outputs": []
    },
    {
      "cell_type": "code",
      "source": [
        "print(classification_report(y_true, y_pred))"
      ],
      "metadata": {
        "colab": {
          "base_uri": "https://localhost:8080/"
        },
        "id": "Ov0GnFlJgbrP",
        "outputId": "7df47f83-1f5d-4c13-9a54-40f8a353365d"
      },
      "execution_count": 6,
      "outputs": [
        {
          "output_type": "stream",
          "name": "stdout",
          "text": [
            "              precision    recall  f1-score   support\n",
            "\n",
            "           a       0.50      0.33      0.40         3\n",
            "           d       0.00      0.00      0.00         2\n",
            "           g       0.33      1.00      0.50         1\n",
            "\n",
            "    accuracy                           0.33         6\n",
            "   macro avg       0.28      0.44      0.30         6\n",
            "weighted avg       0.31      0.33      0.28         6\n",
            "\n"
          ]
        }
      ]
    },
    {
      "cell_type": "markdown",
      "source": [
        "# **ROC Curve**\n",
        "# **\"Reciever Operating Characteristic\"**"
      ],
      "metadata": {
        "id": "9Ph98DocgZWd"
      }
    },
    {
      "cell_type": "code",
      "source": [
        "'''\n",
        "roc_curve don't take predicted values, it takes probailities values\n",
        "'''\n",
        "y = np.array([1 , 1 , 2 , 2])\n",
        "scores = np.array([0.1 , 0.4 , 0.35, 0.8])"
      ],
      "metadata": {
        "id": "VFJplzRrmRBP"
      },
      "execution_count": 37,
      "outputs": []
    },
    {
      "cell_type": "code",
      "source": [
        "fpr, tpr, threshold_value = roc_curve(y, scores, pos_label = 2)"
      ],
      "metadata": {
        "id": "iEWMmWBzgce6"
      },
      "execution_count": 38,
      "outputs": []
    },
    {
      "cell_type": "code",
      "source": [
        "'''\n",
        "tpr -> True Positive Rate -> Recall -> Sensitivity\n",
        "fpr -> False Positive Rate -> Precision -> Specificity\n",
        "'''\n",
        "print(\"fpr:\\n\", fpr, \"\\n\")\n",
        "print(\"tpr:\\n\", tpr, \"\\n\")\n",
        "print(\"ThresholdValue:\\n\", threshold_value, \"\\n\")"
      ],
      "metadata": {
        "colab": {
          "base_uri": "https://localhost:8080/"
        },
        "id": "A1PdVwjagcWB",
        "outputId": "c49c88f5-a9ce-4f0c-d2db-2763a3656640"
      },
      "execution_count": 36,
      "outputs": [
        {
          "output_type": "stream",
          "name": "stdout",
          "text": [
            "fpr:\n",
            " [0.  0.  0.5 0.5 1. ] \n",
            "\n",
            "tpr:\n",
            " [0.  0.5 0.5 1.  1. ] \n",
            "\n",
            "ThresholdValue:\n",
            " [ inf 0.8  0.4  0.35 0.1 ] \n",
            "\n"
          ]
        }
      ]
    },
    {
      "cell_type": "markdown",
      "source": [
        "# **AUC**\n",
        "# **\"Area Under Curve\"**"
      ],
      "metadata": {
        "id": "KfM4jA9Vmt1Q"
      }
    },
    {
      "cell_type": "code",
      "source": [
        "from sklearn.metrics import auc\n",
        "from sklearn.metrics import roc_curve"
      ],
      "metadata": {
        "id": "3QOd4UBFgcSh"
      },
      "execution_count": 39,
      "outputs": []
    },
    {
      "cell_type": "code",
      "source": [
        "y = np.array([0, 0, 1, 1])\n",
        "scores = np.array([0.1, 0.4, 0.35, 0.8])"
      ],
      "metadata": {
        "id": "PCctz4dzgcQs"
      },
      "execution_count": 41,
      "outputs": []
    },
    {
      "cell_type": "code",
      "source": [
        "fpr, tpr, threshold_value = roc_curve(y, scores)"
      ],
      "metadata": {
        "id": "_sAsIEYsoUaq"
      },
      "execution_count": 42,
      "outputs": []
    },
    {
      "cell_type": "code",
      "source": [
        "roc_auc_score(y, scores)"
      ],
      "metadata": {
        "colab": {
          "base_uri": "https://localhost:8080/"
        },
        "id": "nLQ8qN3Cga-t",
        "outputId": "1ab12140-cea1-4d66-c238-54d9161e2f4f"
      },
      "execution_count": 43,
      "outputs": [
        {
          "output_type": "execute_result",
          "data": {
            "text/plain": [
              "0.75"
            ]
          },
          "metadata": {},
          "execution_count": 43
        }
      ]
    },
    {
      "cell_type": "code",
      "source": [
        "print(auc(fpr, tpr))"
      ],
      "metadata": {
        "colab": {
          "base_uri": "https://localhost:8080/"
        },
        "id": "5iwsOGmTga7w",
        "outputId": "077c308b-6e85-429f-addb-32bb462f9dee"
      },
      "execution_count": 44,
      "outputs": [
        {
          "output_type": "stream",
          "name": "stdout",
          "text": [
            "0.75\n"
          ]
        }
      ]
    },
    {
      "cell_type": "markdown",
      "source": [
        "# **ROC AUC Score**"
      ],
      "metadata": {
        "id": "w9fAFO23gaV6"
      }
    },
    {
      "cell_type": "code",
      "source": [
        "from sklearn.metrics import roc_auc_score"
      ],
      "metadata": {
        "id": "gK1glJGOJV8X"
      },
      "execution_count": 45,
      "outputs": []
    },
    {
      "cell_type": "code",
      "source": [
        "y = np.array([0, 0, 1, 1])\n",
        "scores = np.array([0.1, 0.4, 0.35, 0.8])"
      ],
      "metadata": {
        "id": "l70ZfjmiJV5s"
      },
      "execution_count": 46,
      "outputs": []
    },
    {
      "cell_type": "code",
      "source": [
        "print(roc_auc_score(y, scores))"
      ],
      "metadata": {
        "colab": {
          "base_uri": "https://localhost:8080/"
        },
        "id": "BVKyt-lcJV3R",
        "outputId": "44b1fb63-0718-499e-e791-5a8f6cb2efbb"
      },
      "execution_count": 47,
      "outputs": [
        {
          "output_type": "stream",
          "name": "stdout",
          "text": [
            "0.75\n"
          ]
        }
      ]
    },
    {
      "cell_type": "markdown",
      "source": [
        "# **Zero One Loss**"
      ],
      "metadata": {
        "id": "86_rv4hFpuIC"
      }
    },
    {
      "cell_type": "code",
      "source": [
        "from sklearn.metrics import zero_one_loss"
      ],
      "metadata": {
        "id": "OYLTAUzbJV1j"
      },
      "execution_count": 53,
      "outputs": []
    },
    {
      "cell_type": "code",
      "source": [
        "y_pred = [1, 2, 3, 4]\n",
        "y_true = [2, 2, 3, 4]"
      ],
      "metadata": {
        "id": "YCnBmRkgp0zu"
      },
      "execution_count": 57,
      "outputs": []
    },
    {
      "cell_type": "code",
      "source": [
        "'''\n",
        "ratio of wrong predictions\n",
        "'''\n",
        "\n",
        "print(zero_one_loss(y_true, y_pred))"
      ],
      "metadata": {
        "colab": {
          "base_uri": "https://localhost:8080/"
        },
        "id": "ubJ-8vJDp0wt",
        "outputId": "ad44008f-75ad-445a-d3bb-5513659b9b6d"
      },
      "execution_count": 64,
      "outputs": [
        {
          "output_type": "stream",
          "name": "stdout",
          "text": [
            "0.25\n"
          ]
        }
      ]
    },
    {
      "cell_type": "code",
      "source": [
        "'''\n",
        "return the number of wrong predictions\n",
        "'''\n",
        "\n",
        "print(zero_one_loss(y_true, y_pred, normalize = False))"
      ],
      "metadata": {
        "colab": {
          "base_uri": "https://localhost:8080/"
        },
        "id": "tYJkJtmnp0up",
        "outputId": "fbedcd67-162d-446c-e0e3-76df705c41e4"
      },
      "execution_count": 65,
      "outputs": [
        {
          "output_type": "stream",
          "name": "stdout",
          "text": [
            "1\n"
          ]
        }
      ]
    }
  ]
}