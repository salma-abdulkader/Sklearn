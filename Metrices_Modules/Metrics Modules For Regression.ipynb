{
  "nbformat": 4,
  "nbformat_minor": 0,
  "metadata": {
    "colab": {
      "provenance": [],
      "toc_visible": true
    },
    "kernelspec": {
      "name": "python3",
      "display_name": "Python 3"
    },
    "language_info": {
      "name": "python"
    }
  },
  "cells": [
    {
      "cell_type": "markdown",
      "source": [
        "# **Metrics Modules For Regression:-**"
      ],
      "metadata": {
        "id": "skPipA79TYfn"
      }
    },
    {
      "cell_type": "markdown",
      "source": [
        "# **Mean Absolute Error**"
      ],
      "metadata": {
        "id": "RIHUb1tvTbAd"
      }
    },
    {
      "cell_type": "code",
      "source": [
        "from sklearn.metrics import mean_absolute_error"
      ],
      "metadata": {
        "id": "JWP-p9rvTayC"
      },
      "execution_count": 43,
      "outputs": []
    },
    {
      "cell_type": "code",
      "source": [
        "y_true = [3, -5, 2, 7]\n",
        "y_pred = [2.5, 0, 2, 8]"
      ],
      "metadata": {
        "id": "PCyIxUOKML2D"
      },
      "execution_count": 44,
      "outputs": []
    },
    {
      "cell_type": "code",
      "source": [
        "print(mean_absolute_error(y_true, y_pred))"
      ],
      "metadata": {
        "id": "QhTTwznyML3v",
        "colab": {
          "base_uri": "https://localhost:8080/"
        },
        "outputId": "6b5175bb-fa91-47d1-8f05-769db6bea6d8"
      },
      "execution_count": 45,
      "outputs": [
        {
          "output_type": "stream",
          "name": "stdout",
          "text": [
            "1.625\n"
          ]
        }
      ]
    },
    {
      "cell_type": "code",
      "source": [
        "print(mean_absolute_error(y_true, y_pred, multioutput='uniform_average')) #return mean for all values"
      ],
      "metadata": {
        "colab": {
          "base_uri": "https://localhost:8080/"
        },
        "id": "IkH0n3oz-Brd",
        "outputId": "b0ebb3fe-bb7e-41f7-f72d-0e87caac32d7"
      },
      "execution_count": 46,
      "outputs": [
        {
          "output_type": "stream",
          "name": "stdout",
          "text": [
            "1.625\n"
          ]
        }
      ]
    },
    {
      "cell_type": "code",
      "source": [
        "print(mean_absolute_error(y_true, y_pred, multioutput='raw_values')) #return array of values"
      ],
      "metadata": {
        "colab": {
          "base_uri": "https://localhost:8080/"
        },
        "id": "TR1uETQH-LpX",
        "outputId": "56c2dece-d157-4577-876c-1e64791ecb65"
      },
      "execution_count": 47,
      "outputs": [
        {
          "output_type": "stream",
          "name": "stdout",
          "text": [
            "[1.625]\n"
          ]
        }
      ]
    },
    {
      "cell_type": "code",
      "source": [
        "y_truee = [[0.5, 1],\n",
        "          [-1, 1],\n",
        "          [7, -6]]\n",
        "\n",
        "y_predd = [[0, 2],\n",
        "          [-1, 2],\n",
        "          [8, -5]]"
      ],
      "metadata": {
        "id": "qGkaZXC-ML5t"
      },
      "execution_count": 48,
      "outputs": []
    },
    {
      "cell_type": "code",
      "source": [
        "print(mean_absolute_error(y_truee, y_predd))"
      ],
      "metadata": {
        "colab": {
          "base_uri": "https://localhost:8080/"
        },
        "id": "kSeFSC9S9n8m",
        "outputId": "92317c8a-0b63-4bad-ffde-d6fb929c4aa9"
      },
      "execution_count": 49,
      "outputs": [
        {
          "output_type": "stream",
          "name": "stdout",
          "text": [
            "0.75\n"
          ]
        }
      ]
    },
    {
      "cell_type": "code",
      "source": [
        "print(mean_absolute_error(y_truee, y_predd, multioutput='uniform_average')) #return mean for all (Default)"
      ],
      "metadata": {
        "colab": {
          "base_uri": "https://localhost:8080/"
        },
        "id": "WJ_VgEuh-3uu",
        "outputId": "91a102e2-96a1-4565-e3af-e0363227c240"
      },
      "execution_count": 72,
      "outputs": [
        {
          "output_type": "stream",
          "name": "stdout",
          "text": [
            "0.75\n"
          ]
        }
      ]
    },
    {
      "cell_type": "code",
      "source": [
        "print(mean_absolute_error(y_truee, y_predd, multioutput='raw_values')) #return array of each row"
      ],
      "metadata": {
        "colab": {
          "base_uri": "https://localhost:8080/"
        },
        "id": "mf3ukTf4-3r3",
        "outputId": "5d81b3be-863d-4c9b-a3e1-88be471d9652"
      },
      "execution_count": 51,
      "outputs": [
        {
          "output_type": "stream",
          "name": "stdout",
          "text": [
            "[0.5 1. ]\n"
          ]
        }
      ]
    },
    {
      "cell_type": "markdown",
      "source": [
        "# **Mean Squared Error**"
      ],
      "metadata": {
        "id": "OE9bEXok9TyE"
      }
    },
    {
      "cell_type": "code",
      "source": [
        "from sklearn.metrics import mean_squared_error"
      ],
      "metadata": {
        "id": "Xvq8V02kMLrd"
      },
      "execution_count": 53,
      "outputs": []
    },
    {
      "cell_type": "code",
      "source": [
        "y_true = [3, -5, 2, 7]\n",
        "y_pred = [2.5, 0, 2, 8]"
      ],
      "metadata": {
        "id": "rKxyMUnaMLtu"
      },
      "execution_count": 64,
      "outputs": []
    },
    {
      "cell_type": "code",
      "source": [
        "print(mean_squared_error(y_true, y_pred))"
      ],
      "metadata": {
        "colab": {
          "base_uri": "https://localhost:8080/"
        },
        "id": "jdxvDzDYAblq",
        "outputId": "efe73ff7-678c-4133-812a-432995a646b8"
      },
      "execution_count": 65,
      "outputs": [
        {
          "output_type": "stream",
          "name": "stdout",
          "text": [
            "6.5625\n"
          ]
        }
      ]
    },
    {
      "cell_type": "code",
      "source": [
        "print(mean_squared_error(y_true, y_pred, multioutput='uniform_average')) #return mean for all values"
      ],
      "metadata": {
        "colab": {
          "base_uri": "https://localhost:8080/"
        },
        "id": "Yg1GzrP7Abh5",
        "outputId": "657b8d1c-ef28-481f-e692-1a541f268ae6"
      },
      "execution_count": 66,
      "outputs": [
        {
          "output_type": "stream",
          "name": "stdout",
          "text": [
            "6.5625\n"
          ]
        }
      ]
    },
    {
      "cell_type": "code",
      "source": [
        "print(mean_squared_error(y_true, y_pred, multioutput='raw_values')) #return array of values"
      ],
      "metadata": {
        "colab": {
          "base_uri": "https://localhost:8080/"
        },
        "id": "0Wiqsq0NAbfY",
        "outputId": "a4f0e25f-0d46-4b58-d69b-f25481d4048b"
      },
      "execution_count": 67,
      "outputs": [
        {
          "output_type": "stream",
          "name": "stdout",
          "text": [
            "[6.5625]\n"
          ]
        }
      ]
    },
    {
      "cell_type": "code",
      "source": [
        "y_truee = [[0.5, 1],\n",
        "          [-1, 1],\n",
        "          [7, -6]]\n",
        "\n",
        "y_predd = [[0, 2],\n",
        "          [-1, 2],\n",
        "          [8, -5]]"
      ],
      "metadata": {
        "id": "xf9RuZoPAbc8"
      },
      "execution_count": 68,
      "outputs": []
    },
    {
      "cell_type": "code",
      "source": [
        "print(mean_squared_error(y_truee, y_predd))"
      ],
      "metadata": {
        "colab": {
          "base_uri": "https://localhost:8080/"
        },
        "id": "e0ogl9IAAba3",
        "outputId": "6406785a-500b-46d4-89b3-e42f9434769a"
      },
      "execution_count": 69,
      "outputs": [
        {
          "output_type": "stream",
          "name": "stdout",
          "text": [
            "0.7083333333333334\n"
          ]
        }
      ]
    },
    {
      "cell_type": "code",
      "source": [
        "print(mean_squared_error(y_truee, y_predd, multioutput='uniform_average')) #return mean for all (Default)"
      ],
      "metadata": {
        "colab": {
          "base_uri": "https://localhost:8080/"
        },
        "id": "p88K9-OgAbZP",
        "outputId": "52a16369-3358-4ac4-fa76-d8dab4a021e9"
      },
      "execution_count": 70,
      "outputs": [
        {
          "output_type": "stream",
          "name": "stdout",
          "text": [
            "0.7083333333333334\n"
          ]
        }
      ]
    },
    {
      "cell_type": "code",
      "source": [
        "print(mean_squared_error(y_truee, y_predd, multioutput='raw_values')) #return array of each row"
      ],
      "metadata": {
        "colab": {
          "base_uri": "https://localhost:8080/"
        },
        "id": "ORSfrqnnA1EW",
        "outputId": "077fcf28-f385-41f7-b225-f00993f65e06"
      },
      "execution_count": 71,
      "outputs": [
        {
          "output_type": "stream",
          "name": "stdout",
          "text": [
            "[0.41666667 1.        ]\n"
          ]
        }
      ]
    },
    {
      "cell_type": "markdown",
      "source": [
        "# **Median Absolute Error**"
      ],
      "metadata": {
        "id": "BvrR5g57TeI8"
      }
    },
    {
      "cell_type": "code",
      "source": [
        "from sklearn.metrics import median_absolute_error"
      ],
      "metadata": {
        "id": "BSSDBZ9gML7g"
      },
      "execution_count": 73,
      "outputs": []
    },
    {
      "cell_type": "code",
      "source": [
        "y_true = [3, -5, 2, 7]\n",
        "y_pred = [2.5, 0, 2, 8]"
      ],
      "metadata": {
        "id": "M_0kGdWwTXcD"
      },
      "execution_count": 74,
      "outputs": []
    },
    {
      "cell_type": "code",
      "source": [
        "print(median_absolute_error(y_true, y_pred))"
      ],
      "metadata": {
        "id": "koFT5gvPTXZ9",
        "colab": {
          "base_uri": "https://localhost:8080/"
        },
        "outputId": "804f5fb7-fbb2-4b90-adff-fbce69c74ae7"
      },
      "execution_count": 76,
      "outputs": [
        {
          "output_type": "stream",
          "name": "stdout",
          "text": [
            "0.75\n"
          ]
        }
      ]
    },
    {
      "cell_type": "code",
      "source": [
        "print(median_absolute_error(y_true, y_pred, multioutput='uniform_average')) #return mean for all values (Default)"
      ],
      "metadata": {
        "colab": {
          "base_uri": "https://localhost:8080/"
        },
        "id": "puAXNmGVByyd",
        "outputId": "e67002fc-b0ae-46e4-a947-cf15a858a914"
      },
      "execution_count": 78,
      "outputs": [
        {
          "output_type": "stream",
          "name": "stdout",
          "text": [
            "0.75\n"
          ]
        }
      ]
    },
    {
      "cell_type": "code",
      "source": [
        "print(median_absolute_error(y_true, y_pred, multioutput='raw_values')) #return array of values"
      ],
      "metadata": {
        "colab": {
          "base_uri": "https://localhost:8080/"
        },
        "id": "MrbI5df6Byvj",
        "outputId": "0a7d4d59-8994-4be3-c04d-de01cbf45fd9"
      },
      "execution_count": 80,
      "outputs": [
        {
          "output_type": "stream",
          "name": "stdout",
          "text": [
            "[0.75]\n"
          ]
        }
      ]
    },
    {
      "cell_type": "code",
      "source": [
        "y_truee = [[0.5, 1],\n",
        "          [-1, 1],\n",
        "          [7, -6]]\n",
        "\n",
        "y_predd = [[0, 2],\n",
        "          [-1, 2],\n",
        "          [8, -5]]"
      ],
      "metadata": {
        "id": "Y0BbxXV4Byp3"
      },
      "execution_count": 81,
      "outputs": []
    },
    {
      "cell_type": "code",
      "source": [
        "print(median_absolute_error(y_truee, y_predd))"
      ],
      "metadata": {
        "colab": {
          "base_uri": "https://localhost:8080/"
        },
        "id": "ga53mvvNBym0",
        "outputId": "46ab6de8-c1a2-4a56-a3b8-4398c03d1de7"
      },
      "execution_count": 82,
      "outputs": [
        {
          "output_type": "stream",
          "name": "stdout",
          "text": [
            "0.75\n"
          ]
        }
      ]
    },
    {
      "cell_type": "code",
      "source": [
        "print(median_absolute_error(y_truee, y_predd, multioutput='uniform_average')) #return mean for all (Default)"
      ],
      "metadata": {
        "colab": {
          "base_uri": "https://localhost:8080/"
        },
        "id": "iM70T-j_B8q-",
        "outputId": "9805c4d8-9064-4234-b675-512719b8636b"
      },
      "execution_count": 83,
      "outputs": [
        {
          "output_type": "stream",
          "name": "stdout",
          "text": [
            "0.75\n"
          ]
        }
      ]
    },
    {
      "cell_type": "code",
      "source": [
        "print(median_absolute_error(y_truee, y_predd, multioutput='raw_values')) #return array of each row"
      ],
      "metadata": {
        "colab": {
          "base_uri": "https://localhost:8080/"
        },
        "id": "qSMt8QmdB8oE",
        "outputId": "1190a580-ce46-46c5-aa09-534d43f680cf"
      },
      "execution_count": 84,
      "outputs": [
        {
          "output_type": "stream",
          "name": "stdout",
          "text": [
            "[0.5 1. ]\n"
          ]
        }
      ]
    }
  ]
}