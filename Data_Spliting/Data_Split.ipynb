{
  "nbformat": 4,
  "nbformat_minor": 0,
  "metadata": {
    "colab": {
      "provenance": [],
      "toc_visible": true
    },
    "kernelspec": {
      "name": "python3",
      "display_name": "Python 3"
    },
    "language_info": {
      "name": "python"
    }
  },
  "cells": [
    {
      "cell_type": "markdown",
      "source": [
        "# **train_test_split**"
      ],
      "metadata": {
        "id": "2aCRLK6UXsHO"
      }
    },
    {
      "cell_type": "code",
      "source": [
        "import numpy as np\n",
        "from sklearn.model_selection import train_test_split"
      ],
      "metadata": {
        "id": "rTJkFZiJVrv-"
      },
      "execution_count": 2,
      "outputs": []
    },
    {
      "cell_type": "code",
      "source": [
        "x = np.arange(10).reshape((5, 2))"
      ],
      "metadata": {
        "id": "EZJc6Ud7Y-DU"
      },
      "execution_count": 4,
      "outputs": []
    },
    {
      "cell_type": "code",
      "source": [
        "y = range(5)"
      ],
      "metadata": {
        "id": "pbz8ltVbZHyW"
      },
      "execution_count": 5,
      "outputs": []
    },
    {
      "cell_type": "code",
      "source": [
        "x"
      ],
      "metadata": {
        "colab": {
          "base_uri": "https://localhost:8080/"
        },
        "id": "xBySOxeOZQ9h",
        "outputId": "516d3a9c-98e9-4d2f-caad-a18811027c75"
      },
      "execution_count": 6,
      "outputs": [
        {
          "output_type": "execute_result",
          "data": {
            "text/plain": [
              "array([[0, 1],\n",
              "       [2, 3],\n",
              "       [4, 5],\n",
              "       [6, 7],\n",
              "       [8, 9]])"
            ]
          },
          "metadata": {},
          "execution_count": 6
        }
      ]
    },
    {
      "cell_type": "code",
      "source": [
        "y"
      ],
      "metadata": {
        "colab": {
          "base_uri": "https://localhost:8080/"
        },
        "id": "N1q7v8hZZSd0",
        "outputId": "9dc65e99-3d8c-472c-a006-9a84bbc38f19"
      },
      "execution_count": 7,
      "outputs": [
        {
          "output_type": "execute_result",
          "data": {
            "text/plain": [
              "range(0, 5)"
            ]
          },
          "metadata": {},
          "execution_count": 7
        }
      ]
    },
    {
      "cell_type": "code",
      "source": [
        "x_train, x_test, y_train, y_test = train_test_split(x, y, test_size=0.2, random_state=42, shuffle=True)\n",
        "# test will take 1/5 of data\n",
        "# shuffle means reordering the data"
      ],
      "metadata": {
        "id": "4xJjKrNpVrsd"
      },
      "execution_count": 13,
      "outputs": []
    },
    {
      "cell_type": "code",
      "source": [
        "x_train"
      ],
      "metadata": {
        "colab": {
          "base_uri": "https://localhost:8080/"
        },
        "id": "qy0q3dXAVj2s",
        "outputId": "5aa69e77-eed5-42b6-e720-6f9fbbe214d6"
      },
      "execution_count": 9,
      "outputs": [
        {
          "output_type": "execute_result",
          "data": {
            "text/plain": [
              "array([[8, 9],\n",
              "       [4, 5],\n",
              "       [0, 1],\n",
              "       [6, 7]])"
            ]
          },
          "metadata": {},
          "execution_count": 9
        }
      ]
    },
    {
      "cell_type": "code",
      "source": [
        "x_test"
      ],
      "metadata": {
        "colab": {
          "base_uri": "https://localhost:8080/"
        },
        "id": "bqvAmVOqVjyt",
        "outputId": "a34d8404-deb4-4f00-80d0-b6dfb57b9d2e"
      },
      "execution_count": 10,
      "outputs": [
        {
          "output_type": "execute_result",
          "data": {
            "text/plain": [
              "array([[2, 3]])"
            ]
          },
          "metadata": {},
          "execution_count": 10
        }
      ]
    },
    {
      "cell_type": "code",
      "source": [
        "y_train"
      ],
      "metadata": {
        "colab": {
          "base_uri": "https://localhost:8080/"
        },
        "id": "AKMU3cwYVjwX",
        "outputId": "7b688f8a-cd1e-4ce9-ba4a-96125a837f72"
      },
      "execution_count": 11,
      "outputs": [
        {
          "output_type": "execute_result",
          "data": {
            "text/plain": [
              "[4, 2, 0, 3]"
            ]
          },
          "metadata": {},
          "execution_count": 11
        }
      ]
    },
    {
      "cell_type": "code",
      "source": [
        "y_test"
      ],
      "metadata": {
        "colab": {
          "base_uri": "https://localhost:8080/"
        },
        "id": "TFb1KwmUVjuT",
        "outputId": "2e364376-e750-4550-dd0d-1f8b7c744882"
      },
      "execution_count": 12,
      "outputs": [
        {
          "output_type": "execute_result",
          "data": {
            "text/plain": [
              "[1]"
            ]
          },
          "metadata": {},
          "execution_count": 12
        }
      ]
    },
    {
      "cell_type": "code",
      "source": [],
      "metadata": {
        "id": "2WANGkOkVjms"
      },
      "execution_count": null,
      "outputs": []
    },
    {
      "cell_type": "markdown",
      "source": [
        "# **K-Fold**"
      ],
      "metadata": {
        "id": "gAd6PFiLZzBB"
      }
    },
    {
      "cell_type": "code",
      "source": [
        "import numpy as np\n",
        "from sklearn.model_selection import KFold"
      ],
      "metadata": {
        "id": "gGl0iuqsVjkH"
      },
      "execution_count": 18,
      "outputs": []
    },
    {
      "cell_type": "code",
      "source": [
        "x = np.array([[1, 2], [3, 4], [5, 6], [7, 8]])\n",
        "y = np.array([11, 22, 33, 44])"
      ],
      "metadata": {
        "id": "c1QaIhJ5afiR"
      },
      "execution_count": 19,
      "outputs": []
    },
    {
      "cell_type": "code",
      "source": [
        "nn = 2\n",
        "kf = KFold(n_splits = nn, random_state = None, shuffle = False)"
      ],
      "metadata": {
        "id": "sG11JxT0Vjhr"
      },
      "execution_count": 23,
      "outputs": []
    },
    {
      "cell_type": "code",
      "source": [
        "for train_index, test_index in kf.split(x):\n",
        "    print(train_index, test_index)\n",
        "    x_train, x_test = x[train_index], x[test_index]\n",
        "    y_train, y_test = y[train_index], y[test_index]\n",
        "    print(\"x_train: \\n\", x_train, \"\\n\")\n",
        "    print(\"x_test : \\n\", x_test, \"\\n\")\n",
        "    print(\"y_train : \\n\", y_train, \"\\n\")\n",
        "    print(\"y_test : \\n\", y_test, \"\\n\")"
      ],
      "metadata": {
        "colab": {
          "base_uri": "https://localhost:8080/"
        },
        "id": "JpF5UCDDVjgB",
        "outputId": "4c7daa61-4691-4601-8829-02b6cadcfe09"
      },
      "execution_count": 33,
      "outputs": [
        {
          "output_type": "stream",
          "name": "stdout",
          "text": [
            "[2 3] [0 1]\n",
            "x_train: \n",
            " [[5 6]\n",
            " [7 8]] \n",
            "\n",
            "x_test : \n",
            " [[1 2]\n",
            " [3 4]] \n",
            "\n",
            "y_train : \n",
            " [33 44] \n",
            "\n",
            "y_test : \n",
            " [11 22] \n",
            "\n",
            "[0 1] [2 3]\n",
            "x_train: \n",
            " [[1 2]\n",
            " [3 4]] \n",
            "\n",
            "x_test : \n",
            " [[5 6]\n",
            " [7 8]] \n",
            "\n",
            "y_train : \n",
            " [11 22] \n",
            "\n",
            "y_test : \n",
            " [33 44] \n",
            "\n"
          ]
        }
      ]
    },
    {
      "cell_type": "code",
      "source": [],
      "metadata": {
        "id": "tZ2je-YTbsWK"
      },
      "execution_count": null,
      "outputs": []
    }
  ]
}